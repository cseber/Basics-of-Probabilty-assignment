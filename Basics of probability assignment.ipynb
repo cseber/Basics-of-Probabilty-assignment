{
 "cells": [
  {
   "cell_type": "markdown",
   "metadata": {},
   "source": [
    "# Drill set 1"
   ]
  },
  {
   "cell_type": "markdown",
   "metadata": {},
   "source": [
    "## Question 1\n",
    "\n",
    "Prob(HTTH)=(1/2)(1/2)(1/2)(1/2) = 1/16<br>\n",
    "Prob(HHHH)=(1/2)(1/2)(1/2)(1/2) = 1/16<br>\n",
    "Prob(TTHH)=(1/2)(1/2)(1/2)(1/2) = 1/16<br>"
   ]
  },
  {
   "cell_type": "markdown",
   "metadata": {},
   "source": [
    "## Question 2\n",
    "\n",
    "Prob(not_man) = 1 - (21/45)<br>\n",
    "Prob(not_man) = 8/15"
   ]
  },
  {
   "cell_type": "markdown",
   "metadata": {},
   "source": [
    "## Question 3\n",
    "\n",
    "Prob(travel ∩ crash) = (.00005)(.10)<br>\n",
    "Prob(travel ∩ crash) = .000005 or .00005%"
   ]
  },
  {
   "cell_type": "markdown",
   "metadata": {},
   "source": [
    "## Question 4\n",
    "\n",
    "User behavior and user survey probabilty are not independent events."
   ]
  },
  {
   "cell_type": "markdown",
   "metadata": {},
   "source": [
    "# Drill set 2"
   ]
  },
  {
   "cell_type": "markdown",
   "metadata": {},
   "source": [
    "## Question 1\n",
    "\n",
    "Prob(positive) = prob(sufferer) x prob(test_postive) + prob(not_sufferer) x prob(test_false_positive)<br>\n",
    "<br>\n",
    "prob(positive) = (.005)(.98) + (.995)(.10)<br>\n",
    "<br>\n",
    "prob(positive) = 10.44%"
   ]
  },
  {
   "cell_type": "markdown",
   "metadata": {},
   "source": [
    "## Question 2\n",
    "\n",
    "Prob(thripshaw) = [prob(sufferer) x prob(test_postive)] / [prob(sufferer) x prob(test_postive) + prob(sufferer) x prob(test_false_negative)<br>\n",
    "<br>\n",
    "Prob(thripshaw) = [(.005)(.98)] / [(.005)(.98) + (.005)(.02)]<br>\n",
    "<br>\n",
    "Prob(thripshaw) = .98"
   ]
  },
  {
   "cell_type": "markdown",
   "metadata": {},
   "source": [
    "## Question 3\n",
    "\n",
    "prob(pos_test) = .98, prob(false_pos_test) = .10<br>\n",
    "prob(neg_test) = .90, prob(false_neg_test) = .02<br>\n",
    "\n",
    "Prob(no_thrip) = [prob(non_sufferer) x prob(neg_test)] / [prob(non_sufferer) x prob(neg_test) + prob(non_sufferer) x prob(false_pos_test)<br>\n",
    "<br>\n",
    "Prob(no_thrip) = [(.995)(.90)] / [(.995)(.90) + (.995)(.10)]<br>\n",
    "<br>\n",
    "Prob(no_thrip) = .90"
   ]
  },
  {
   "cell_type": "markdown",
   "metadata": {},
   "source": [
    "## Question 4\n",
    "\n",
    "prob(misclassify) = prob(sufferer) x prob(false_neg_test) + prob(non_sufferer) x prob(false_pos_test)<br>\n",
    "<br>\n",
    "prob(miscasslify) = (.005)(.02) + (.995)(.10)<br>\n",
    "<br>\n",
    "prob(miscasslify) = .0996"
   ]
  },
  {
   "cell_type": "code",
   "execution_count": null,
   "metadata": {},
   "outputs": [],
   "source": []
  }
 ],
 "metadata": {
  "kernelspec": {
   "display_name": "Python 3",
   "language": "python",
   "name": "python3"
  },
  "language_info": {
   "codemirror_mode": {
    "name": "ipython",
    "version": 3
   },
   "file_extension": ".py",
   "mimetype": "text/x-python",
   "name": "python",
   "nbconvert_exporter": "python",
   "pygments_lexer": "ipython3",
   "version": "3.7.3"
  }
 },
 "nbformat": 4,
 "nbformat_minor": 2
}
